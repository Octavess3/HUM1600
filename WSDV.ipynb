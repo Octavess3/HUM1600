{
  "nbformat": 4,
  "nbformat_minor": 0,
  "metadata": {
    "colab": {
      "provenance": [],
      "authorship_tag": "ABX9TyMtzrDJZVfz/xdwKXmYEOrm",
      "include_colab_link": true
    },
    "kernelspec": {
      "name": "python3",
      "display_name": "Python 3"
    },
    "language_info": {
      "name": "python"
    }
  },
  "cells": [
    {
      "cell_type": "markdown",
      "metadata": {
        "id": "view-in-github",
        "colab_type": "text"
      },
      "source": [
        "<a href=\"https://colab.research.google.com/github/Octavess3/HUM1600/blob/main/WSDV.ipynb\" target=\"_parent\"><img src=\"https://colab.research.google.com/assets/colab-badge.svg\" alt=\"Open In Colab\"/></a>"
      ]
    },
    {
      "cell_type": "code",
      "execution_count": null,
      "metadata": {
        "id": "tYQhmMT6xaTm"
      },
      "outputs": [],
      "source": [
        "# Matthew Skyler Bohannan\n",
        "# 3/24/24\n",
        "#\n",
        "# There are many possible legal/ethical issues with webscraping.\n",
        "# This includes stealing data, literature, art, or any other personal\n",
        "# creation and using them for other work. Web scraping can be done in a\n",
        "# way that harms the servers that any particular website may be working\n",
        "# off of.\n",
        "#\n",
        "# A trend line is a line on any given graph that calculates some kind of\n",
        "# trend throughout all of the data. A good example of this would be a\n",
        "# scatterplot with a lot of temperatures. A trend line might show that the\n",
        "# temperature has been gradually increasing as time goes on."
      ]
    },
    {
      "cell_type": "code",
      "source": [
        "# Problem 1\n",
        "\n",
        "htmlList = []\n",
        "import requests\n",
        "from bs4 import BeautifulSoup\n",
        "url = 'https://en.wikipedia.org/wiki/TrackMania'\n",
        "response = requests.get(url)\n",
        "if response.status_code == 200:\n",
        "    soup = BeautifulSoup(response.text, 'html.parser')\n",
        "    for link in soup.find_all('a'):\n",
        "        href = link.get('href')\n",
        "        if href and href.startswith('http'):\n",
        "            htmlList.append(href)\n",
        "\n",
        "else:\n",
        "    print(\"Failed to retrieve the webpage\")\n",
        "\n",
        "print(len(htmlList))\n",
        "\n",
        "for element in htmlList:\n",
        "  print(element)"
      ],
      "metadata": {
        "id": "oFhLLIbuytWN"
      },
      "execution_count": null,
      "outputs": []
    },
    {
      "cell_type": "code",
      "source": [
        "# Problem 2\n",
        "\n",
        "import matplotlib.pyplot as plt\n",
        "import numpy as np\n",
        "\n",
        "\n",
        "# Line Graph Code\n",
        "\n",
        "xList = [2,2,3,3,7,15,15,21,21,21,22,22,24,30,33,38,39,42,47,49,51,51,52,53,55,58,59,60,60,61]\n",
        "yList = [-19.26,12.19,9.29,-9.51,14.80,11.23,3.63,-1.08,16.16,3.45,-2.77,7.46,7.38,15.66,14.73,31.00,26.48,19.28,14.42,36.38,33.35,52.06,28.63,42.91,32.10,29.85,14.40,37.21,21.56,25.36]\n",
        "\n",
        "fig, ax = plt.subplots()\n",
        "\n",
        "ax.plot(xList, yList, marker='o')\n",
        "\n",
        "ax.set_title('Problem 2 Line Graph Plot')\n",
        "ax.set_xlabel('x axis')\n",
        "ax.set_ylabel('y axis')\n",
        "\n",
        "plt.show()\n",
        "\n",
        "\n",
        "# Scatter Plot Code\n",
        "\n",
        "plt.scatter(xList, yList, c='blue', marker='o', edgecolor='blue', linewidth=1, alpha=0.75)\n",
        "\n",
        "plt.title('Problem 2 Scatter Plot')\n",
        "plt.xlabel('X values')\n",
        "plt.ylabel('Y values')\n",
        "\n",
        "plt.grid(True, which='both', linestyle='--', linewidth=0.5)\n",
        "\n",
        "plt.show()\n",
        "\n",
        "\n",
        "# Scatter Plot with Trend Line\n",
        "\n",
        "xList = np.array(xList)\n",
        "plt.scatter(xList, yList, c='blue', marker='o', edgecolor='black', linewidth=1, alpha=0.75, label='Data Points')\n",
        "\n",
        "m, b = np.polyfit(xList, yList, 1)\n",
        "plt.plot(xList, m*xList + b, color='red', linewidth=1, label='Trend Line')\n",
        "\n",
        "plt.title('Problem 2 Scatter Plot with Trend Line')\n",
        "plt.xlabel('X values')\n",
        "plt.ylabel('Y values')\n",
        "\n",
        "plt.grid(True, which='both', linestyle='--', linewidth=0.5)\n",
        "\n",
        "plt.legend()\n",
        "\n",
        "plt.show()"
      ],
      "metadata": {
        "id": "tLoBVvXC1JlE"
      },
      "execution_count": null,
      "outputs": []
    },
    {
      "cell_type": "code",
      "source": [
        "# Problem 3\n",
        "\n",
        "import pandas as pd\n",
        "import seaborn as sns\n",
        "import matplotlib.pyplot as plt\n",
        "\n",
        "data = [\n",
        "    [\"Reese\",112,47], [\"Barnes\", 103, 87], [\"Jones\", 127, 70],\n",
        "    [\"Javez\", 99, 51], [\"Smith\", 130, 100], [\"Heath\", 107, 101],\n",
        "    [\"Jacks\", 89, 38], [\"Weeks\", 120, 97], [\"Mitch\", 122, 110],\n",
        "    [\"Rankle\", 90, 55]\n",
        "]\n",
        "\n",
        "df = pd.DataFrame(data, columns=['TeamName', 'HighestScore', 'LowestScore'])\n",
        "\n",
        "sns.set_theme(style=\"whitegrid\")\n",
        "plt.figure(figsize=(10, 6))\n",
        "\n",
        "sns.lineplot(x='TeamName', y='HighestScore', data=df, color='red', label='Highest Score')\n",
        "sns.lineplot(x='TeamName', y='LowestScore', data=df, color='blue', label='Lowest Score')\n",
        "plt.title('High and Low Team Scores')\n",
        "plt.xlabel('Team Names')\n",
        "plt.ylabel('Scores')\n",
        "plt.xticks(rotation=90)\n",
        "plt.legend()\n",
        "plt.show()"
      ],
      "metadata": {
        "id": "8T7K-Z1G3Mq_"
      },
      "execution_count": null,
      "outputs": []
    }
  ]
}
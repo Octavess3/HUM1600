{
  "nbformat": 4,
  "nbformat_minor": 0,
  "metadata": {
    "colab": {
      "provenance": [],
      "history_visible": true,
      "authorship_tag": "ABX9TyORrqAD5vouzQdTc0FoQTmg",
      "include_colab_link": true
    },
    "kernelspec": {
      "name": "python3",
      "display_name": "Python 3"
    },
    "language_info": {
      "name": "python"
    }
  },
  "cells": [
    {
      "cell_type": "markdown",
      "metadata": {
        "id": "view-in-github",
        "colab_type": "text"
      },
      "source": [
        "<a href=\"https://colab.research.google.com/github/Octavess3/HUM1600/blob/main/Input%5BData%5D1.ipynb\" target=\"_parent\"><img src=\"https://colab.research.google.com/assets/colab-badge.svg\" alt=\"Open In Colab\"/></a>"
      ]
    },
    {
      "cell_type": "code",
      "execution_count": null,
      "metadata": {
        "id": "H6LaFl7qobmR"
      },
      "outputs": [],
      "source": [
        "# Matthew Skyler Bohannan\n",
        "# 1/24/24\n",
        "#\n",
        "# Quantitative data is data that\n",
        "# can be used for comparison.\n",
        "# (i.e number of books in stock)\n",
        "# Qualitative data is data that\n",
        "# is used to define non-numerical\n",
        "# qualities.\n",
        "# (i.e different types of sports)\n",
        "#\n",
        "# Casting is a command that is used\n",
        "# to change data between types. This\n",
        "# could be used if you needed to change\n",
        "# a numeric string to a int or float.\n",
        "#\n",
        "# Precision is the overall amount\n",
        "# of numbers in a float value.\n",
        "# Scale is the amount of numbers\n",
        "# behind the decimal point in a\n",
        "# float value.\n",
        "# (Given float = 150.89, precision = 5, scale = 2)"
      ]
    },
    {
      "cell_type": "code",
      "source": [
        "# Problem 1\n",
        "print (\"Bob Smith\" + \"\\nbobsmith@gmail.com\")"
      ],
      "metadata": {
        "colab": {
          "base_uri": "https://localhost:8080/"
        },
        "id": "jdsBd2j8vFs4",
        "outputId": "84b23902-fb23-4420-8f6c-0c98c5086ecc"
      },
      "execution_count": null,
      "outputs": [
        {
          "output_type": "stream",
          "name": "stdout",
          "text": [
            "Bob Smith\n",
            "bobsmith@gmail.com\n"
          ]
        }
      ]
    },
    {
      "cell_type": "code",
      "source": [],
      "metadata": {
        "id": "NJD98yh6yQTE"
      },
      "execution_count": null,
      "outputs": []
    },
    {
      "cell_type": "code",
      "source": [
        "# Problem 2\n",
        "x = 100\n",
        "y = 15\n",
        "print (x * y)\n",
        "print (type(x * y))\n",
        "print (x / y)\n",
        "print (type(x / y))"
      ],
      "metadata": {
        "colab": {
          "base_uri": "https://localhost:8080/"
        },
        "id": "GCKfbXDDwxNR",
        "outputId": "21daa2bd-e4bd-4600-b41b-159c77761f45"
      },
      "execution_count": null,
      "outputs": [
        {
          "output_type": "stream",
          "name": "stdout",
          "text": [
            "1500\n",
            "<class 'int'>\n",
            "6.666666666666667\n",
            "<class 'float'>\n"
          ]
        }
      ]
    },
    {
      "cell_type": "code",
      "source": [
        "# Problem 3\n",
        "x = input (\"Please enter value X here: \")\n",
        "y = input (\"Please enter value Y here: \")\n",
        "x = float(x)\n",
        "y = float(y)\n",
        "print (x * y)\n",
        "print (type(x * y))\n",
        "print (x / y)\n",
        "print (type (x / y))"
      ],
      "metadata": {
        "colab": {
          "base_uri": "https://localhost:8080/"
        },
        "id": "pg3j0ZQKyeDq",
        "outputId": "a145c7c3-6088-45d2-cab0-58bf397b4241"
      },
      "execution_count": null,
      "outputs": [
        {
          "output_type": "stream",
          "name": "stdout",
          "text": [
            "Please enter value X here: 2\n",
            "Please enter value Y here: 2\n",
            "4.0\n",
            "<class 'float'>\n",
            "1.0\n",
            "<class 'float'>\n"
          ]
        }
      ]
    },
    {
      "cell_type": "markdown",
      "source": [
        "Problem 4\n",
        "1. The value of Row 2 \"a or b?\" is True\n",
        "2. The value of Row 4 \"a and (a or b)?\" is false\n",
        "3. The value of Row 3 \"not a?\" is True"
      ],
      "metadata": {
        "id": "mhjwmUsuRmqY"
      }
    },
    {
      "cell_type": "code",
      "source": [
        "# Problem 5\n",
        "schoolName = \"University of Utah\"\n",
        "print (schoolName[14:15] + schoolName[8:9] + schoolName[4:5] + schoolName[6:7], end=\"!\")"
      ],
      "metadata": {
        "colab": {
          "base_uri": "https://localhost:8080/"
        },
        "id": "F_f43fecSCdn",
        "outputId": "af1a80ce-5764-451b-a05f-5633d5854adf"
      },
      "execution_count": null,
      "outputs": [
        {
          "output_type": "stream",
          "name": "stdout",
          "text": [
            "Utes!"
          ]
        }
      ]
    },
    {
      "cell_type": "code",
      "source": [
        "# Problem 6\n",
        "shakespeareToBe = (\"To be, or not to be, that is the question:\" +\n",
        "                   \"\\nWhether 'tis nobler in the mind to suffer\" +\n",
        "                   \"\\nThe slings and arrows of outrageous fortune,\" +\n",
        "                   \"\\nOr to take arms against a sea of troubles\" +\n",
        "                   \"\\nAnd by opposing end them.\")\n",
        "print(shakespeareToBe)\n",
        "\n",
        "print(\" \")\n",
        "\n",
        "parseVariable = (shakespeareToBe[172:173] + \" \" +\n",
        "                 shakespeareToBe[8:9]+shakespeareToBe[4:5]+shakespeareToBe[3:4]+shakespeareToBe[4:5]+shakespeareToBe[90:91]+shakespeareToBe[27:28] + \" \" +\n",
        "                 shakespeareToBe[12:13]+shakespeareToBe[22:23]+shakespeareToBe[1:2]+shakespeareToBe[8:9]+shakespeareToBe[10:11]+shakespeareToBe[196:197])\n",
        "print (parseVariable)\n",
        "#print (len(shakespeareToBe))"
      ],
      "metadata": {
        "colab": {
          "base_uri": "https://localhost:8080/"
        },
        "id": "DQEavlYfYvPz",
        "outputId": "efdf8b39-ea07-4285-bea7-e4b105c50d3b"
      },
      "execution_count": null,
      "outputs": [
        {
          "output_type": "stream",
          "name": "stdout",
          "text": [
            "To be, or not to be, that is the question:\n",
            "Whether 'tis nobler in the mind to suffer\n",
            "The slings and arrows of outrageous fortune,\n",
            "Or to take arms against a sea of troubles\n",
            "And by opposing end them.\n",
            " \n",
            "A rebels thorn.\n"
          ]
        }
      ]
    }
  ]
}
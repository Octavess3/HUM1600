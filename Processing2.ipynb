{
  "nbformat": 4,
  "nbformat_minor": 0,
  "metadata": {
    "colab": {
      "provenance": [],
      "authorship_tag": "ABX9TyNAxyMNtqE8KKAXMoEoF6m0",
      "include_colab_link": true
    },
    "kernelspec": {
      "name": "python3",
      "display_name": "Python 3"
    },
    "language_info": {
      "name": "python"
    }
  },
  "cells": [
    {
      "cell_type": "markdown",
      "metadata": {
        "id": "view-in-github",
        "colab_type": "text"
      },
      "source": [
        "<a href=\"https://colab.research.google.com/github/Octavess3/HUM1600/blob/main/Processing2.ipynb\" target=\"_parent\"><img src=\"https://colab.research.google.com/assets/colab-badge.svg\" alt=\"Open In Colab\"/></a>"
      ]
    },
    {
      "cell_type": "code",
      "execution_count": null,
      "metadata": {
        "id": "1CcSk-umpYSD"
      },
      "outputs": [],
      "source": [
        "# Matthew Skyler Bohannan\n",
        "# 2/25/24\n",
        "#\n",
        "# The difference between a built in function and a programmer defined function\n",
        "# is the origins of the functions. A built in function is a set function within\n",
        "# a programming language. A user defined function is a function that is created\n",
        "# by the user to perform specific tasks.\n",
        "#\n",
        "# The difference between a void function and a value return function is the way\n",
        "# that the functions execute code. A void function will run its code and give\n",
        "# no return data to the user. A value return function can take input, evaluate\n",
        "# the input, and then give a return value to the user."
      ]
    },
    {
      "cell_type": "code",
      "source": [
        "# Problem 1\n",
        "print(\"We surveyed with 100 people to find the ages of people in this class\\n\")\n",
        "num_list = [23,56,19,52,87,88,50,34,22,61,52,43,25,76,77,94]\n",
        "print(\"The number of survey participants was 100.\\nOnly\", len(num_list), \"answered.\\n\")\n",
        "print(\"The oldest participant was\", max(num_list), \"and the youngest participant was\", min(num_list), \"\\n\")\n",
        "print(\"If all of the ages were added together, the total age would be,\", sum(num_list))"
      ],
      "metadata": {
        "colab": {
          "base_uri": "https://localhost:8080/"
        },
        "id": "FyTelZNzrKUh",
        "outputId": "d8d44b77-6e2e-4fb9-9efe-c60d6dc517a3"
      },
      "execution_count": null,
      "outputs": [
        {
          "output_type": "stream",
          "name": "stdout",
          "text": [
            "We surveyed with 100 people to find the ages of people in this class\n",
            "\n",
            "The number of survey participants was 100.\n",
            "Only 16 answered.\n",
            "\n",
            "The oldest participant was 94 and the youngest participant was 19 \n",
            "\n",
            "If all of the ages were added together, the total age would be, 859\n"
          ]
        }
      ]
    },
    {
      "cell_type": "code",
      "source": [
        "# Problem 2\n",
        "first_name = input(\"Please enter your first name here:\")\n",
        "last_name = input(\"Please enter your last name here:\")\n",
        "\n",
        "def name_format():\n",
        "  print(\"\\nDifferent name formats include:\")\n",
        "  print(first_name, last_name)\n",
        "  print(last_name, first_name, sep=\", \")\n",
        "  print(first_name.upper(), last_name.upper())\n",
        "\n",
        "  full_name = first_name + \" \" + last_name\n",
        "  for n in full_name:\n",
        "    if n != \" \":\n",
        "      print(n, end=\" \")\n",
        "    else:\n",
        "      print(\" \", end=\"\")\n",
        "\n",
        "name_format()"
      ],
      "metadata": {
        "colab": {
          "base_uri": "https://localhost:8080/"
        },
        "id": "RkQWaW3_w3zG",
        "outputId": "ed2a5618-9da7-4773-93b5-34deead3b3c5"
      },
      "execution_count": null,
      "outputs": [
        {
          "output_type": "stream",
          "name": "stdout",
          "text": [
            "Please enter your first name here:John\n",
            "Please enter your last name here:Rhopus\n",
            "\n",
            "Different name formats include:\n",
            "John Rhopus\n",
            "Rhopus, John\n",
            "JOHN RHOPUS\n",
            "J o h n  R h o p u s "
          ]
        }
      ]
    },
    {
      "cell_type": "code",
      "source": [
        "# Problem 3\n",
        "import random\n",
        "\n",
        "print(\"Welcome to the Die game! You have 3 lives to win.\")\n",
        "def dice_roll():\n",
        "  return random.randint(1,6)\n",
        "\n",
        "n = 3\n",
        "\n",
        "while n > 0:\n",
        "  die = dice_roll()\n",
        "  user_guess = input(\"I have a 6 sided die... Guess what side the die will land on:\")\n",
        "  print(\"You guessed\", user_guess)\n",
        "  print(\"The die rolled a\", die)\n",
        "  if int(user_guess) == die:\n",
        "    print(\"Your guess was correct, congratulations!\")\n",
        "    break\n",
        "  else:\n",
        "    print(\"Incorrect! You have\", n - 1, \"lives remaining.\")\n",
        "    n -= 1"
      ],
      "metadata": {
        "colab": {
          "base_uri": "https://localhost:8080/"
        },
        "id": "3cT5km4s2DmH",
        "outputId": "0497aa69-0c00-4e07-9306-ba6b20aa5f6c"
      },
      "execution_count": null,
      "outputs": [
        {
          "output_type": "stream",
          "name": "stdout",
          "text": [
            "Welcome to the Die game! You have 3 lives to win.\n",
            "I have a 6 sided die... Guess what side the die will land on:1\n",
            "You guessed 1\n",
            "The die rolled a 1\n",
            "Your guess was correct, congratulations!\n"
          ]
        }
      ]
    },
    {
      "cell_type": "code",
      "source": [],
      "metadata": {
        "id": "yo5HWZoa5bcf"
      },
      "execution_count": null,
      "outputs": []
    }
  ]
}